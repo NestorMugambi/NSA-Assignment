{
 "cells": [
  {
   "cell_type": "code",
   "execution_count": 1,
   "id": "e5222b5c",
   "metadata": {},
   "outputs": [],
   "source": [
    "import socket"
   ]
  },
  {
   "cell_type": "code",
   "execution_count": null,
   "id": "23794a53",
   "metadata": {},
   "outputs": [
    {
     "name": "stdout",
     "output_type": "stream",
     "text": [
      "Server listening on DESKTOP-NF23MK6:12345\n",
      "Connection attempt from blocked IP: ('10.96.160.70', 52868)\n"
     ]
    }
   ],
   "source": [
    "import socket \n",
    "# Define allowed IP addresses\n",
    "\n",
    "allowed_ips = ['127.0.0.1', '10.96.165.10']  # Example list of allowed IPs\n",
    "\n",
    "# Create a socket object\n",
    "server_socket = socket.socket(socket.AF_INET, socket.SOCK_STREAM)\n",
    "# Get the local machine name and port\n",
    "host = socket.gethostname()\n",
    "port = 12345\n",
    "# Bind to the port\n",
    "server_socket.bind((host, port))\n",
    "# Listen for incoming connections\n",
    "server_socket.listen(5)\n",
    "print('Server listening on {}:{}'.format(host, port))\n",
    "# Function to handle client requests\n",
    "def handle_client(client_socket):\n",
    "    message = 'Hello, client! Thank you for connecting.We succesfullly simulated the client server model.\\nGroup 12'\n",
    "    client_socket.send(message.encode('utf-8'))\n",
    "    client_socket.close()\n",
    "\n",
    "while True:\n",
    "    # Establish connection with client\n",
    "    client_socket, addr = server_socket.accept()\n",
    "   \n",
    "    \n",
    "    if addr[0] in allowed_ips:\n",
    "                print('Got connection from', addr)\n",
    "                # Handle client requests in a new thread or process (not covered here)\n",
    "                handle_client(client_socket)\n",
    "    else:\n",
    "                print('Connection attempt from blocked IP:', addr)\n",
    "                client_socket.send(\"Access denied. Your IP is not allowed.\".encode('utf-8'))\n",
    "                client_socket.close()  # Close connection for blocked IP"
   ]
  },
  {
   "cell_type": "code",
   "execution_count": null,
   "id": "3ce187bb",
   "metadata": {},
   "outputs": [],
   "source": []
  }
 ],
 "metadata": {
  "kernelspec": {
   "display_name": "Python 3 (ipykernel)",
   "language": "python",
   "name": "python3"
  },
  "language_info": {
   "codemirror_mode": {
    "name": "ipython",
    "version": 3
   },
   "file_extension": ".py",
   "mimetype": "text/x-python",
   "name": "python",
   "nbconvert_exporter": "python",
   "pygments_lexer": "ipython3",
   "version": "3.10.9"
  }
 },
 "nbformat": 4,
 "nbformat_minor": 5
}
